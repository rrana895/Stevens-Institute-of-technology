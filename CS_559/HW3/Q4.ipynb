{
 "cells": [
  {
   "cell_type": "code",
   "execution_count": 318,
   "metadata": {},
   "outputs": [],
   "source": [
    "import numpy as np\n",
    "\n",
    "X = np.array([[1, 1, -1, 0, 2],\n",
    "                 [0, 0, 1, 2, 0],\n",
    "                 [-1, -1, 1, 1, 0],\n",
    "                 [4, 0, 1, 2, 1],\n",
    "                 [-1, 1, 1, 1, 0],\n",
    "                 [-1, -1, -1, 1, 0],\n",
    "                 [-1, 1, 1, 2, 1]])\n",
    "\n",
    "#INSERT EXTRA\n",
    "Y = np.insert(X, obj=0, values=1, axis = 1)\n",
    "\n",
    "a = np.array([3,1,1,-1,2,-7])\n",
    "labels = np.array(['w2','w1','w2','w1','w1','w1','w2'])"
   ]
  },
  {
   "cell_type": "code",
   "execution_count": 319,
   "metadata": {},
   "outputs": [
    {
     "data": {
      "text/plain": [
       "array([[ 1,  1, -1,  0,  2],\n",
       "       [ 0,  0,  1,  2,  0],\n",
       "       [-1, -1,  1,  1,  0],\n",
       "       [ 4,  0,  1,  2,  1],\n",
       "       [-1,  1,  1,  1,  0],\n",
       "       [-1, -1, -1,  1,  0],\n",
       "       [-1,  1,  1,  2,  1]])"
      ]
     },
     "execution_count": 319,
     "metadata": {},
     "output_type": "execute_result"
    }
   ],
   "source": [
    "X"
   ]
  },
  {
   "cell_type": "code",
   "execution_count": 320,
   "metadata": {},
   "outputs": [
    {
     "data": {
      "text/plain": [
       "array(['w2', 'w1', 'w2', 'w1', 'w1', 'w1', 'w2'], dtype='<U2')"
      ]
     },
     "execution_count": 320,
     "metadata": {},
     "output_type": "execute_result"
    }
   ],
   "source": [
    "labels"
   ]
  },
  {
   "cell_type": "code",
   "execution_count": 321,
   "metadata": {},
   "outputs": [
    {
     "data": {
      "text/plain": [
       "array([[ 1,  1,  1, -1,  0,  2],\n",
       "       [ 1,  0,  0,  1,  2,  0],\n",
       "       [ 1, -1, -1,  1,  1,  0],\n",
       "       [ 1,  4,  0,  1,  2,  1],\n",
       "       [ 1, -1,  1,  1,  1,  0],\n",
       "       [ 1, -1, -1, -1,  1,  0],\n",
       "       [ 1, -1,  1,  1,  2,  1]])"
      ]
     },
     "execution_count": 321,
     "metadata": {},
     "output_type": "execute_result"
    }
   ],
   "source": [
    "Y"
   ]
  },
  {
   "cell_type": "markdown",
   "metadata": {},
   "source": [
    "## AUGMENTATION"
   ]
  },
  {
   "cell_type": "code",
   "execution_count": 322,
   "metadata": {},
   "outputs": [],
   "source": [
    "# Augmentation\n",
    "Y[labels == 'w2'] = Y[labels == 'w2'] * -1"
   ]
  },
  {
   "cell_type": "code",
   "execution_count": 323,
   "metadata": {},
   "outputs": [
    {
     "data": {
      "text/plain": [
       "array([[-1, -1, -1,  1,  0, -2],\n",
       "       [ 1,  0,  0,  1,  2,  0],\n",
       "       [-1,  1,  1, -1, -1,  0],\n",
       "       [ 1,  4,  0,  1,  2,  1],\n",
       "       [ 1, -1,  1,  1,  1,  0],\n",
       "       [ 1, -1, -1, -1,  1,  0],\n",
       "       [-1,  1, -1, -1, -2, -1]])"
      ]
     },
     "execution_count": 323,
     "metadata": {},
     "output_type": "execute_result"
    }
   ],
   "source": [
    "Y"
   ]
  },
  {
   "cell_type": "code",
   "execution_count": 324,
   "metadata": {},
   "outputs": [
    {
     "name": "stdout",
     "output_type": "stream",
     "text": [
      "STEP: 1, y: [-1 -1 -1  1  0 -2], a1: [ 3  1  1 -1  2 -7], a2= [ 3  1  1 -1  2 -7], ydota= 8 , missclassfied = N\n",
      "STEP: 2, y: [1 0 0 1 2 0], a2: [ 3  1  1 -1  2 -7], a3= [ 3  1  1 -1  2 -7], ydota= 6 , missclassfied = N\n",
      "STEP: 3, y: [-1  1  1 -1 -1  0], a3: [ 3  1  1 -1  2 -7], a4= [ 2  2  2 -2  1 -7], ydota= -2 , missclassfied = Y\n",
      "STEP: 4, y: [1 4 0 1 2 1], a4: [ 2  2  2 -2  1 -7], a5= [ 2  2  2 -2  1 -7], ydota= 3 , missclassfied = N\n",
      "STEP: 5, y: [ 1 -1  1  1  1  0], a5: [ 2  2  2 -2  1 -7], a6= [ 2  2  2 -2  1 -7], ydota= 1 , missclassfied = N\n",
      "STEP: 6, y: [ 1 -1 -1 -1  1  0], a6: [ 2  2  2 -2  1 -7], a7= [ 2  2  2 -2  1 -7], ydota= 1 , missclassfied = N\n",
      "STEP: 7, y: [-1  1 -1 -1 -2 -1], a7: [ 2  2  2 -2  1 -7], a8= [ 2  2  2 -2  1 -7], ydota= 5 , missclassfied = N\n"
     ]
    }
   ],
   "source": [
    "i = 0\n",
    "while True:\n",
    "    for _, y in enumerate(Y):\n",
    "            # calculating yta\n",
    "            i = i+1\n",
    "            ydota = y.dot(a)\n",
    "            miss = 'Y' if ydota<0 else 'N'\n",
    "            if ydota < 0:\n",
    "            \n",
    "                print(f\"STEP: {i}, y: {y}, a{i}: {a}, a{i+1}= {a+y}, ydota= {ydota} , missclassfied = {miss}\"\n",
    "                     )\n",
    "                a = a + y\n",
    "            else:\n",
    "                print(f\"STEP: {i}, y: {y}, a{i}: {a}, a{i+1}= {a}, ydota= {ydota} , missclassfied = {'Y' if ydota<0 else 'N'}\"\n",
    "                     )\n",
    "    if (Y.dot(a)<0).sum() == 0:\n",
    "        break"
   ]
  },
  {
   "cell_type": "code",
   "execution_count": 325,
   "metadata": {},
   "outputs": [
    {
     "data": {
      "text/plain": [
       "array([ 2,  2,  2, -2,  1, -7])"
      ]
     },
     "execution_count": 325,
     "metadata": {},
     "output_type": "execute_result"
    }
   ],
   "source": [
    "a"
   ]
  },
  {
   "cell_type": "code",
   "execution_count": 326,
   "metadata": {},
   "outputs": [
    {
     "data": {
      "text/plain": [
       "array([[ 1,  1, -1,  0,  2],\n",
       "       [ 0,  0,  1,  2,  0],\n",
       "       [-1, -1,  1,  1,  0],\n",
       "       [ 4,  0,  1,  2,  1],\n",
       "       [-1,  1,  1,  1,  0],\n",
       "       [-1, -1, -1,  1,  0],\n",
       "       [-1,  1,  1,  2,  1]])"
      ]
     },
     "execution_count": 326,
     "metadata": {},
     "output_type": "execute_result"
    }
   ],
   "source": [
    "X"
   ]
  },
  {
   "cell_type": "code",
   "execution_count": 327,
   "metadata": {},
   "outputs": [
    {
     "data": {
      "text/plain": [
       "array([ 2,  2,  2, -2,  1, -7])"
      ]
     },
     "execution_count": 327,
     "metadata": {},
     "output_type": "execute_result"
    }
   ],
   "source": [
    "a"
   ]
  },
  {
   "cell_type": "code",
   "execution_count": 328,
   "metadata": {
    "scrolled": true
   },
   "outputs": [
    {
     "data": {
      "text/plain": [
       "array([[-1, -1, -1,  1,  0, -2],\n",
       "       [ 1,  0,  0,  1,  2,  0],\n",
       "       [-1,  1,  1, -1, -1,  0],\n",
       "       [ 1,  4,  0,  1,  2,  1],\n",
       "       [ 1, -1,  1,  1,  1,  0],\n",
       "       [ 1, -1, -1, -1,  1,  0],\n",
       "       [-1,  1, -1, -1, -2, -1]])"
      ]
     },
     "execution_count": 328,
     "metadata": {},
     "output_type": "execute_result"
    }
   ],
   "source": [
    "Y"
   ]
  },
  {
   "cell_type": "code",
   "execution_count": 333,
   "metadata": {},
   "outputs": [
    {
     "data": {
      "text/plain": [
       "array([ True, False,  True, False, False, False,  True])"
      ]
     },
     "execution_count": 333,
     "metadata": {},
     "output_type": "execute_result"
    }
   ],
   "source": [
    "X.dot(a[1:])<(a[0]*-1)"
   ]
  },
  {
   "cell_type": "code",
   "execution_count": 330,
   "metadata": {},
   "outputs": [
    {
     "data": {
      "text/plain": [
       "array(['w2', 'w1', 'w2', 'w1', 'w1', 'w1', 'w2'], dtype='<U2')"
      ]
     },
     "execution_count": 330,
     "metadata": {},
     "output_type": "execute_result"
    }
   ],
   "source": [
    "labels"
   ]
  }
 ],
 "metadata": {
  "kernelspec": {
   "display_name": "Python 3",
   "language": "python",
   "name": "python3"
  },
  "language_info": {
   "codemirror_mode": {
    "name": "ipython",
    "version": 3
   },
   "file_extension": ".py",
   "mimetype": "text/x-python",
   "name": "python",
   "nbconvert_exporter": "python",
   "pygments_lexer": "ipython3",
   "version": "3.7.4"
  }
 },
 "nbformat": 4,
 "nbformat_minor": 2
}
